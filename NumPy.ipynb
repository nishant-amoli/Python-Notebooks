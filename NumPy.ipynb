{
 "cells": [
  {
   "cell_type": "markdown",
   "id": "3de33928",
   "metadata": {},
   "source": [
    "# NumPy Tutorial"
   ]
  },
  {
   "cell_type": "code",
   "execution_count": 1,
   "id": "37e3d3fd",
   "metadata": {},
   "outputs": [],
   "source": [
    "import numpy as np\n",
    "import sys\n",
    "import time"
   ]
  },
  {
   "cell_type": "markdown",
   "id": "27639a7a",
   "metadata": {},
   "source": [
    "## Advantages of using NumPy"
   ]
  },
  {
   "cell_type": "markdown",
   "id": "f73a7d31",
   "metadata": {},
   "source": [
    "There are three advantages of using NumPy Array over lists.\n",
    "1) Less memory allocation\n",
    "2) Less time complex\n",
    "3) Comes with built-in features such as direct operations and useful functions"
   ]
  },
  {
   "cell_type": "markdown",
   "id": "26a72c92",
   "metadata": {},
   "source": [
    "The following code snippet shows the difference in allocated memory to the list and NumPy array of the same size"
   ]
  },
  {
   "cell_type": "code",
   "execution_count": 2,
   "id": "fba86d77",
   "metadata": {},
   "outputs": [
    {
     "name": "stdout",
     "output_type": "stream",
     "text": [
      "Memory allocated to pythonn list: 2800000\n",
      "Memory allocated to pythonn list: 400000\n"
     ]
    }
   ],
   "source": [
    "ar = range(100000)\n",
    "sizeofar = sys.getsizeof(1) * len(ar)\n",
    "\n",
    "npar = np.arange(100000)\n",
    "sizeofnpar = npar.size * npar.itemsize\n",
    "\n",
    "print(\"Memory allocated to pythonn list:\",sizeofar)\n",
    "print(\"Memory allocated to pythonn list:\",sizeofnpar)"
   ]
  },
  {
   "cell_type": "markdown",
   "id": "4db51726",
   "metadata": {},
   "source": [
    "The following code snippet shows the difference in time taken to perform basic addition operation for two lists as well as two NumPy arrays. It also demonstrates how convenient it is to perform operations on NumPy arrays."
   ]
  },
  {
   "cell_type": "code",
   "execution_count": 3,
   "id": "5b382522",
   "metadata": {},
   "outputs": [
    {
     "name": "stdout",
     "output_type": "stream",
     "text": [
      "Time taken to add two lists each of size 100000 in milliseconds: 7.9708099365234375\n",
      "Time taken to add two NumPy RRy each of size 100000 in milliseconds: 0.0\n"
     ]
    }
   ],
   "source": [
    "ls = range(100000)\n",
    "ls2 = range(100000)\n",
    "start_time = time.time()\n",
    "resultls = list((x+y) for x,y in zip(ls,ls2))\n",
    "time_taken = (time.time() - start_time) * 1000\n",
    "print(\"Time taken to add two lists each of size 100000 in milliseconds:\",time_taken)\n",
    "\n",
    "arr = np.arange(100000)\n",
    "arr2 = np.arange(100000)\n",
    "start_time = time.time()\n",
    "resultls = arr + arr2\n",
    "time_taken = (time.time() - start_time) * 1000\n",
    "print(\"Time taken to add two NumPy RRy each of size 100000 in milliseconds:\",time_taken)"
   ]
  },
  {
   "cell_type": "markdown",
   "id": "18f05c82",
   "metadata": {},
   "source": [
    "## Initializing NumPy arrays"
   ]
  },
  {
   "cell_type": "code",
   "execution_count": 4,
   "id": "49cbba78",
   "metadata": {},
   "outputs": [
    {
     "name": "stdout",
     "output_type": "stream",
     "text": [
      "Single Dimensional Array\n",
      " [5 6 2 5 7 9 8 0]\n",
      "Two Dimensional Array:\n",
      " [[5 6 2 5 7 9 8 0]\n",
      " [5 6 2 5 7 9 8 0]\n",
      " [5 6 2 5 7 9 8 0]]\n",
      "Three Dimensional Array:\n",
      " [[[5 6 2 5 7 9 8 0]\n",
      "  [5 6 2 5 7 9 8 0]]\n",
      "\n",
      " [[5 6 2 5 7 9 8 0]\n",
      "  [5 6 2 5 7 9 8 0]]]\n",
      "Array of float type:\n",
      " [1. 2. 3. 4. 5.]\n",
      "Array of shape  (3, 2)  :\n",
      " [[1 1]\n",
      " [1 1]\n",
      " [1 1]]\n",
      "Array of shape  (3, 2)  :\n",
      " [[0. 0.]\n",
      " [0. 0.]\n",
      " [0. 0.]]\n",
      "Array containing the numbers from 0-19:\n",
      " [ 0  1  2  3  4  5  6  7  8  9 10 11 12 13 14 15 16 17 18 19]\n",
      "Array containing the numbers from 0-19 with a common difference of 2:\n",
      " [ 0  2  4  6  8 10 12 14 16 18]\n",
      "Array containing 30 elements between 0-19 with a common difference:\n",
      " [ 0.          0.68965517  1.37931034  2.06896552  2.75862069  3.44827586\n",
      "  4.13793103  4.82758621  5.51724138  6.20689655  6.89655172  7.5862069\n",
      "  8.27586207  8.96551724  9.65517241 10.34482759 11.03448276 11.72413793\n",
      " 12.4137931  13.10344828 13.79310345 14.48275862 15.17241379 15.86206897\n",
      " 16.55172414 17.24137931 17.93103448 18.62068966 19.31034483 20.        ]\n"
     ]
    }
   ],
   "source": [
    "# Single dimentional array\n",
    "np1 = np.array([5,6,2,5,7,9,8,0])\n",
    "print(\"Single Dimensional Array\\n\",np1)\n",
    "\n",
    "# Two dimentional array\n",
    "np2 = np.array([[5,6,2,5,7,9,8,0],[5,6,2,5,7,9,8,0],[5,6,2,5,7,9,8,0]])\n",
    "print(\"Two Dimensional Array:\\n\",np2)\n",
    "\n",
    "# Three dimentional array\n",
    "np3 = np.array([[[5,6,2,5,7,9,8,0],[5,6,2,5,7,9,8,0]],[[5,6,2,5,7,9,8,0],[5,6,2,5,7,9,8,0]]])\n",
    "print(\"Three Dimensional Array:\\n\",np3)\n",
    "\n",
    "# Initializing an array of a specific type\n",
    "np4 = np.array([1,2,3,4,5], dtype=float)\n",
    "print(\"Array of float type:\\n\",np4)\n",
    "\n",
    "# Initializing an array of a given shape and a specific type\n",
    "np5 = np.ones(shape=(3,2), dtype=int)\n",
    "print(\"Array of shape \",np5.shape,\" :\\n\",np5)\n",
    "\n",
    "np6 = np.zeros(shape=(3,2), dtype=float)\n",
    "print(\"Array of shape \",np6.shape,\" :\\n\",np6)\n",
    "\n",
    "# Initializing an array with a range of numbers\n",
    "np7 = np.arange(20)\n",
    "print(\"Array containing the numbers from 0-19:\\n\",np7)\n",
    "\n",
    "# Initializing an array with a number of elements in a given range having a common difference\n",
    "np8 = np.arange(0,20,2)\n",
    "print(\"Array containing the numbers from 0-19 with a common difference of 2:\\n\",np8)\n",
    "\n",
    "# Initializing an array with a given number of elements in a given range having a common difference\n",
    "np9 = np.linspace(0,20,30)\n",
    "print(\"Array containing 30 elements between 0-19 with a common difference:\\n\",np9)"
   ]
  },
  {
   "cell_type": "markdown",
   "id": "04be560b",
   "metadata": {},
   "source": [
    "## Some basic NumPy functions"
   ]
  },
  {
   "cell_type": "code",
   "execution_count": 5,
   "id": "aa080e46",
   "metadata": {},
   "outputs": [
    {
     "name": "stdout",
     "output_type": "stream",
     "text": [
      "3\n"
     ]
    }
   ],
   "source": [
    "# Printing the number of dimensions of a NumPy array\n",
    "print(np3.ndim)"
   ]
  },
  {
   "cell_type": "code",
   "execution_count": 6,
   "id": "410bb8fd",
   "metadata": {},
   "outputs": [
    {
     "name": "stdout",
     "output_type": "stream",
     "text": [
      "(2, 2, 8)\n"
     ]
    }
   ],
   "source": [
    "# Printing the shape of a NumPy array\n",
    "print(np3.shape)"
   ]
  },
  {
   "cell_type": "code",
   "execution_count": 7,
   "id": "d0dcd622",
   "metadata": {},
   "outputs": [
    {
     "name": "stdout",
     "output_type": "stream",
     "text": [
      "4\n"
     ]
    }
   ],
   "source": [
    "# Printing the size of an element in a NumPy array in bytes\n",
    "print(np3.itemsize)"
   ]
  },
  {
   "cell_type": "code",
   "execution_count": 8,
   "id": "4bd80462",
   "metadata": {},
   "outputs": [
    {
     "name": "stdout",
     "output_type": "stream",
     "text": [
      "32\n"
     ]
    }
   ],
   "source": [
    "# Printing the size of a NumPy array (total number of elements in an array)\n",
    "print(np3.size)"
   ]
  },
  {
   "cell_type": "code",
   "execution_count": 9,
   "id": "cc8b2a06",
   "metadata": {},
   "outputs": [
    {
     "name": "stdout",
     "output_type": "stream",
     "text": [
      "Original np7:\n",
      " [ 0  1  2  3  4  5  6  7  8  9 10 11 12 13 14 15 16 17 18 19]\n",
      "np7 after reshaping:\n",
      " [[ 0  1  2  3]\n",
      " [ 4  5  6  7]\n",
      " [ 8  9 10 11]\n",
      " [12 13 14 15]\n",
      " [16 17 18 19]]\n"
     ]
    }
   ],
   "source": [
    "# Re-shaping an existing array\n",
    "print(\"Original np7:\\n\",np7)\n",
    "np7 = np7.reshape(5,4)\n",
    "print(\"np7 after reshaping:\\n\",np7)"
   ]
  },
  {
   "cell_type": "code",
   "execution_count": 10,
   "id": "babbb3dd",
   "metadata": {},
   "outputs": [
    {
     "name": "stdout",
     "output_type": "stream",
     "text": [
      "[ 0  1  2  3  4  5  6  7  8  9 10 11 12 13 14 15 16 17 18 19]\n"
     ]
    }
   ],
   "source": [
    "# Flatten an n dimentional array into a 1D array\n",
    "np7 = np7.ravel()\n",
    "print(np7)\n",
    "np7 = np7.reshape(5,4)"
   ]
  },
  {
   "cell_type": "markdown",
   "id": "2a8767a5",
   "metadata": {},
   "source": [
    "## NumPy mathematical functions"
   ]
  },
  {
   "cell_type": "code",
   "execution_count": 11,
   "id": "86f3c3ee",
   "metadata": {},
   "outputs": [
    {
     "name": "stdout",
     "output_type": "stream",
     "text": [
      "0\n"
     ]
    }
   ],
   "source": [
    "# Fetching the smallest element in an array\n",
    "print(np7.min())"
   ]
  },
  {
   "cell_type": "code",
   "execution_count": 12,
   "id": "4919b517",
   "metadata": {},
   "outputs": [
    {
     "name": "stdout",
     "output_type": "stream",
     "text": [
      "19\n"
     ]
    }
   ],
   "source": [
    "# Fetching the largest element in an array\n",
    "print(np7.max())"
   ]
  },
  {
   "cell_type": "code",
   "execution_count": 13,
   "id": "52a3c05b",
   "metadata": {},
   "outputs": [
    {
     "name": "stdout",
     "output_type": "stream",
     "text": [
      "190\n"
     ]
    }
   ],
   "source": [
    "# Fetching the sum of all the elements of an array\n",
    "print(np7.sum())"
   ]
  },
  {
   "cell_type": "code",
   "execution_count": 14,
   "id": "37ff4669",
   "metadata": {},
   "outputs": [
    {
     "name": "stdout",
     "output_type": "stream",
     "text": [
      "[0 1 2 3]\n"
     ]
    }
   ],
   "source": [
    "# Finiding minimum number accross an axis\n",
    "print(np7.min(axis=0))"
   ]
  },
  {
   "cell_type": "code",
   "execution_count": 15,
   "id": "c2ea6c22",
   "metadata": {},
   "outputs": [
    {
     "name": "stdout",
     "output_type": "stream",
     "text": [
      "[40 45 50 55]\n"
     ]
    }
   ],
   "source": [
    "# Sum of all the elements accross an axis\n",
    "print(np7.sum(axis=0))"
   ]
  },
  {
   "cell_type": "code",
   "execution_count": 16,
   "id": "e4bb6a29",
   "metadata": {},
   "outputs": [
    {
     "name": "stdout",
     "output_type": "stream",
     "text": [
      "[[0.         1.         1.41421356 1.73205081]\n",
      " [2.         2.23606798 2.44948974 2.64575131]\n",
      " [2.82842712 3.         3.16227766 3.31662479]\n",
      " [3.46410162 3.60555128 3.74165739 3.87298335]\n",
      " [4.         4.12310563 4.24264069 4.35889894]]\n"
     ]
    }
   ],
   "source": [
    "# Square root of all the elements of an array\n",
    "sqrt = np.sqrt(np7)\n",
    "print(sqrt)"
   ]
  },
  {
   "cell_type": "code",
   "execution_count": 17,
   "id": "bdaea9ef",
   "metadata": {},
   "outputs": [
    {
     "name": "stdout",
     "output_type": "stream",
     "text": [
      "5.766281297335398\n"
     ]
    }
   ],
   "source": [
    "# Standard deviation of the elements of an array\n",
    "std = np7.std()\n",
    "print(std)"
   ]
  },
  {
   "cell_type": "markdown",
   "id": "3240632b",
   "metadata": {},
   "source": [
    "## Stacking and Spliting NumPy arrays"
   ]
  },
  {
   "cell_type": "code",
   "execution_count": 18,
   "id": "0ea24041",
   "metadata": {},
   "outputs": [
    {
     "name": "stdout",
     "output_type": "stream",
     "text": [
      "Array 1:\n",
      " [[ 0  1  2  3  4]\n",
      " [ 5  6  7  8  9]\n",
      " [10 11 12 13 14]\n",
      " [15 16 17 18 19]]\n",
      "Array 2:\n",
      " [[ 0  1  2  3  4]\n",
      " [ 5  6  7  8  9]\n",
      " [10 11 12 13 14]\n",
      " [15 16 17 18 19]]\n",
      "After horizontal stacking:\n",
      " [[ 0  1  2  3  4  0  1  2  3  4]\n",
      " [ 5  6  7  8  9  5  6  7  8  9]\n",
      " [10 11 12 13 14 10 11 12 13 14]\n",
      " [15 16 17 18 19 15 16 17 18 19]]\n",
      "After vertical stacking:\n",
      " [[ 0  1  2  3  4]\n",
      " [ 5  6  7  8  9]\n",
      " [10 11 12 13 14]\n",
      " [15 16 17 18 19]\n",
      " [ 0  1  2  3  4]\n",
      " [ 5  6  7  8  9]\n",
      " [10 11 12 13 14]\n",
      " [15 16 17 18 19]]\n"
     ]
    }
   ],
   "source": [
    "# Stacking  \n",
    "np8 = np.arange(20).reshape(4,5)\n",
    "print(\"Array 1:\\n\",np8)\n",
    "\n",
    "np9 = np.arange(20).reshape(4,5)\n",
    "print(\"Array 2:\\n\",np9)\n",
    "\n",
    "print(\"After horizontal stacking:\\n\",np.hstack((np8,np9)))\n",
    "\n",
    "print(\"After vertical stacking:\\n\",np.vstack((np8,np9)))"
   ]
  },
  {
   "cell_type": "code",
   "execution_count": 19,
   "id": "f294097d",
   "metadata": {},
   "outputs": [
    {
     "name": "stdout",
     "output_type": "stream",
     "text": [
      "Original Array:\n",
      " [[ 0  1  2  3  4  5  6  7  8  9]\n",
      " [10 11 12 13 14 15 16 17 18 19]\n",
      " [20 21 22 23 24 25 26 27 28 29]\n",
      " [30 31 32 33 34 35 36 37 38 39]\n",
      " [40 41 42 43 44 45 46 47 48 49]]\n",
      "After vsplit:\n",
      "Array  0 :\n",
      " [[0 1 2 3 4 5 6 7 8 9]]\n",
      "Array  1 :\n",
      " [[10 11 12 13 14 15 16 17 18 19]]\n",
      "Array  2 :\n",
      " [[20 21 22 23 24 25 26 27 28 29]]\n",
      "Array  3 :\n",
      " [[30 31 32 33 34 35 36 37 38 39]]\n",
      "Array  4 :\n",
      " [[40 41 42 43 44 45 46 47 48 49]]\n"
     ]
    }
   ],
   "source": [
    "# Vertical Splitting \n",
    "\n",
    "np10 = np.arange(50).reshape(5,10)\n",
    "print(\"Original Array:\\n\",np10)\n",
    "\n",
    "# Vertical Split\n",
    "vspl = np.vsplit(np10,5)\n",
    "print(\"After vsplit:\")\n",
    "i = 0\n",
    "for ar in vspl:\n",
    "    print(\"Array \", i, \":\\n\",ar)\n",
    "    i+=1"
   ]
  },
  {
   "cell_type": "code",
   "execution_count": 20,
   "id": "3bc01fc8",
   "metadata": {},
   "outputs": [
    {
     "name": "stdout",
     "output_type": "stream",
     "text": [
      "After hsplit:\n",
      "Array  0 :\n",
      " [[ 0  1  2  3  4]\n",
      " [10 11 12 13 14]\n",
      " [20 21 22 23 24]\n",
      " [30 31 32 33 34]\n",
      " [40 41 42 43 44]]\n",
      "Array  1 :\n",
      " [[ 5  6  7  8  9]\n",
      " [15 16 17 18 19]\n",
      " [25 26 27 28 29]\n",
      " [35 36 37 38 39]\n",
      " [45 46 47 48 49]]\n"
     ]
    }
   ],
   "source": [
    "# Horizontal Split\n",
    "hspl = np.hsplit(np10,2)\n",
    "print(\"After hsplit:\")\n",
    "i = 0\n",
    "for ar in hspl:\n",
    "    print(\"Array \", i, \":\\n\",ar)\n",
    "    i+=1"
   ]
  },
  {
   "cell_type": "markdown",
   "id": "0759ad04",
   "metadata": {},
   "source": [
    "## Indexing and Slicing"
   ]
  },
  {
   "cell_type": "code",
   "execution_count": 21,
   "id": "f8ba9af0",
   "metadata": {},
   "outputs": [
    {
     "name": "stdout",
     "output_type": "stream",
     "text": [
      "Two dimensional array:\n",
      " [[ 0  1  2  3]\n",
      " [ 4  5  6  7]\n",
      " [ 8  9 10 11]\n",
      " [12 13 14 15]\n",
      " [16 17 18 19]]\n"
     ]
    }
   ],
   "source": [
    "print(\"Two dimensional array:\\n\",np7)"
   ]
  },
  {
   "cell_type": "code",
   "execution_count": 22,
   "id": "b811797f",
   "metadata": {},
   "outputs": [
    {
     "name": "stdout",
     "output_type": "stream",
     "text": [
      "6 , 10\n"
     ]
    }
   ],
   "source": [
    "# Printing 3rd element of 2nd row and 3rd element of 3rd row using different notations\n",
    "print(np7[1][2],\",\",np7[2,2]) "
   ]
  },
  {
   "cell_type": "code",
   "execution_count": 23,
   "id": "d1075917",
   "metadata": {},
   "outputs": [
    {
     "name": "stdout",
     "output_type": "stream",
     "text": [
      "[4 5 6 7]\n"
     ]
    }
   ],
   "source": [
    "# Printing 2nd complete row\n",
    "print(np7[1,])"
   ]
  },
  {
   "cell_type": "code",
   "execution_count": 24,
   "id": "3fb23d80",
   "metadata": {},
   "outputs": [
    {
     "name": "stdout",
     "output_type": "stream",
     "text": [
      "[4 5]\n"
     ]
    }
   ],
   "source": [
    "# Slicing a column (Will print 1st two elemetns of 2nd row)\n",
    "print(np7[1,0:2])"
   ]
  },
  {
   "cell_type": "code",
   "execution_count": 25,
   "id": "23455df9",
   "metadata": {},
   "outputs": [
    {
     "name": "stdout",
     "output_type": "stream",
     "text": [
      "[[ 0  1]\n",
      " [ 4  5]\n",
      " [ 8  9]\n",
      " [12 13]\n",
      " [16 17]]\n"
     ]
    }
   ],
   "source": [
    "# Slicing multiple columns (Will print 1st two elemetns of all the rows)\n",
    "print(np7[0:,0:2])"
   ]
  },
  {
   "cell_type": "code",
   "execution_count": 26,
   "id": "4a31c51d",
   "metadata": {},
   "outputs": [
    {
     "name": "stdout",
     "output_type": "stream",
     "text": [
      "[[0 1 2 3]\n",
      " [4 5 6 7]]\n"
     ]
    }
   ],
   "source": [
    "# Slicing multiple rows (Will print 1st two rows)\n",
    "print(np7[0:2,])"
   ]
  },
  {
   "cell_type": "code",
   "execution_count": 27,
   "id": "93423127",
   "metadata": {},
   "outputs": [
    {
     "name": "stdout",
     "output_type": "stream",
     "text": [
      "[16 17 18 19]\n"
     ]
    }
   ],
   "source": [
    "# Printing last row\n",
    "print(np7[-1,])"
   ]
  },
  {
   "cell_type": "code",
   "execution_count": 28,
   "id": "42450bc9",
   "metadata": {},
   "outputs": [
    {
     "name": "stdout",
     "output_type": "stream",
     "text": [
      "14\n"
     ]
    }
   ],
   "source": [
    "# Printing 2nd last element of 3rd row\n",
    "print(np7[3,-2])"
   ]
  },
  {
   "cell_type": "code",
   "execution_count": 29,
   "id": "ca495aa4",
   "metadata": {},
   "outputs": [
    {
     "name": "stdout",
     "output_type": "stream",
     "text": [
      "[[ 2  3]\n",
      " [ 6  7]\n",
      " [10 11]\n",
      " [14 15]\n",
      " [18 19]]\n"
     ]
    }
   ],
   "source": [
    "# Printing the last two columns of all the rows\n",
    "print(np7[0:,-2:])"
   ]
  },
  {
   "cell_type": "code",
   "execution_count": 30,
   "id": "3a914adf",
   "metadata": {},
   "outputs": [
    {
     "name": "stdout",
     "output_type": "stream",
     "text": [
      "Original Array:\n",
      " [[ 0  1  2  3]\n",
      " [ 4  5  6  7]\n",
      " [ 8  9 10 11]\n",
      " [12 13 14 15]\n",
      " [16 17 18 19]]\n",
      "[[ True  True  True  True]\n",
      " [ True  True  True  True]\n",
      " [ True  True False False]\n",
      " [False False False False]\n",
      " [False False False False]]\n",
      "Elements in the array that are less than 10:\n",
      " [0 1 2 3 4 5 6 7 8 9]\n",
      "New array:\n",
      " [[100 100 100 100]\n",
      " [100 100 100 100]\n",
      " [100 100  10  11]\n",
      " [ 12  13  14  15]\n",
      " [ 16  17  18  19]]\n"
     ]
    }
   ],
   "source": [
    "# NumPy array as indices\n",
    "\n",
    "print(\"Original Array:\\n\",np7)\n",
    "\n",
    "# Boolean Array\n",
    "less_than_10 = np7 < 10\n",
    "\n",
    "print(less_than_10)\n",
    "\n",
    "# Elements in np7 array that are less than 10\n",
    "print(\"Elements in the array that are less than 10:\\n\",np7[less_than_10])\n",
    "\n",
    "# Replacing the elements lesser than 10 with a placeholder value\n",
    "np7[less_than_10] = 100\n",
    "\n",
    "print(\"New array:\\n\",np7)"
   ]
  },
  {
   "cell_type": "markdown",
   "id": "96f7dcc8",
   "metadata": {},
   "source": [
    "## NumPy Array Iteration"
   ]
  },
  {
   "cell_type": "code",
   "execution_count": 31,
   "id": "c5791f6a",
   "metadata": {},
   "outputs": [
    {
     "name": "stdout",
     "output_type": "stream",
     "text": [
      "100\n",
      "100\n",
      "100\n",
      "100\n",
      "100\n",
      "100\n",
      "100\n",
      "100\n",
      "100\n",
      "100\n",
      "10\n",
      "11\n",
      "12\n",
      "13\n",
      "14\n",
      "15\n",
      "16\n",
      "17\n",
      "18\n",
      "19\n"
     ]
    }
   ],
   "source": [
    "# Iterating through the elements of the array\n",
    "\n",
    "# The following method is not pythonic\n",
    "for i in np7:\n",
    "    for j in i:\n",
    "        print(j)"
   ]
  },
  {
   "cell_type": "code",
   "execution_count": 32,
   "id": "af3b4b2f",
   "metadata": {},
   "outputs": [
    {
     "name": "stdout",
     "output_type": "stream",
     "text": [
      "100\n",
      "100\n",
      "100\n",
      "100\n",
      "100\n",
      "100\n",
      "100\n",
      "100\n",
      "100\n",
      "100\n",
      "10\n",
      "11\n",
      "12\n",
      "13\n",
      "14\n",
      "15\n",
      "16\n",
      "17\n",
      "18\n",
      "19\n"
     ]
    }
   ],
   "source": [
    "# Using NumPy ravel\n",
    "for i in np7.ravel():\n",
    "    print(i)"
   ]
  },
  {
   "cell_type": "code",
   "execution_count": 33,
   "id": "ad2ec759",
   "metadata": {},
   "outputs": [
    {
     "name": "stdout",
     "output_type": "stream",
     "text": [
      "100\n",
      "100\n",
      "100\n",
      "100\n",
      "100\n",
      "100\n",
      "100\n",
      "100\n",
      "100\n",
      "100\n",
      "10\n",
      "11\n",
      "12\n",
      "13\n",
      "14\n",
      "15\n",
      "16\n",
      "17\n",
      "18\n",
      "19\n"
     ]
    }
   ],
   "source": [
    "# Using NumPy flat\n",
    "for i in np7.flat:\n",
    "    print(i)"
   ]
  },
  {
   "cell_type": "code",
   "execution_count": 43,
   "id": "51556544",
   "metadata": {},
   "outputs": [
    {
     "name": "stdout",
     "output_type": "stream",
     "text": [
      "100\n",
      "100\n",
      "100\n",
      "100\n",
      "100\n",
      "100\n",
      "100\n",
      "100\n",
      "100\n",
      "100\n",
      "10\n",
      "11\n",
      "12\n",
      "13\n",
      "14\n",
      "15\n",
      "16\n",
      "17\n",
      "18\n",
      "19\n"
     ]
    }
   ],
   "source": [
    "# Using nditer to iterate elements in an array\n",
    "for i in np.nditer(np7):\n",
    "    print(i)"
   ]
  },
  {
   "cell_type": "code",
   "execution_count": 44,
   "id": "63080dc7",
   "metadata": {},
   "outputs": [
    {
     "name": "stdout",
     "output_type": "stream",
     "text": [
      "100\n",
      "100\n",
      "100\n",
      "12\n",
      "16\n",
      "100\n",
      "100\n",
      "100\n",
      "13\n",
      "17\n",
      "100\n",
      "100\n",
      "10\n",
      "14\n",
      "18\n",
      "100\n",
      "100\n",
      "11\n",
      "15\n",
      "19\n"
     ]
    }
   ],
   "source": [
    "# Using nditer to iterate elements in Fortan style (column order)\n",
    "for i in np.nditer(np7,order = 'F'):\n",
    "    print(i)"
   ]
  },
  {
   "cell_type": "code",
   "execution_count": 45,
   "id": "c0ff4e12",
   "metadata": {},
   "outputs": [
    {
     "name": "stdout",
     "output_type": "stream",
     "text": [
      "0 \t 0\n",
      "1 \t 1\n",
      "2 \t 2\n",
      "3 \t 3\n",
      "4 \t 4\n",
      "5 \t 5\n",
      "6 \t 6\n",
      "7 \t 7\n",
      "8 \t 8\n",
      "9 \t 9\n",
      "10 \t 10\n",
      "11 \t 11\n",
      "12 \t 12\n",
      "13 \t 13\n",
      "14 \t 14\n",
      "15 \t 15\n",
      "16 \t 16\n",
      "17 \t 17\n",
      "18 \t 18\n",
      "19 \t 19\n"
     ]
    }
   ],
   "source": [
    "# Using nditer to print elements from more than an array simultaneously\n",
    "for i,j in np.nditer([np8,np9]):\n",
    "    print(i,\"\\t\",j)"
   ]
  },
  {
   "cell_type": "code",
   "execution_count": null,
   "id": "56402bbe",
   "metadata": {},
   "outputs": [],
   "source": []
  }
 ],
 "metadata": {
  "kernelspec": {
   "display_name": "Python 3 (ipykernel)",
   "language": "python",
   "name": "python3"
  },
  "language_info": {
   "codemirror_mode": {
    "name": "ipython",
    "version": 3
   },
   "file_extension": ".py",
   "mimetype": "text/x-python",
   "name": "python",
   "nbconvert_exporter": "python",
   "pygments_lexer": "ipython3",
   "version": "3.9.7"
  }
 },
 "nbformat": 4,
 "nbformat_minor": 5
}
